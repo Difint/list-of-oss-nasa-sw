{
 "cells": [
  {
   "cell_type": "markdown",
   "id": "85d33e85-8982-4249-b9bf-4ff45583a5b0",
   "metadata": {
    "tags": []
   },
   "source": [
    "# Table of opensource NASA projects\n",
    "\n",
    "NASA has opensourced around a thousand of applications. \n",
    "Obviosly this software could be used by lot of tech projects.\n",
    "\n",
    "The thing is that it'll take a lot of time for one person just to read the description of the repositories. \n",
    "[Opensource NASA programs](https://software.nasa.gov/)\n",
    "\n",
    "To be able to understand what's inside the repos I've parsed the website and saved results in csv for future analysis.\n",
    "\n",
    "This Python Notebook contains code of the parser.\n",
    "\n",
    "In the repo you'll [find final parced csv file](https://github.com/Difint/list-of-oss-nasa-sw/blob/main/nasa-opensource-sw.csv)\n",
    "\n",
    "The parser itself is made in Jupyter Notebook using Python+Selenium+Pandas and available [here](https://github.com/Difint/list-of-oss-nasa-sw/blob/main/parser.ipynb)"
   ]
  },
  {
   "cell_type": "code",
   "execution_count": null,
   "id": "82e60bb9",
   "metadata": {},
   "outputs": [],
   "source": [
    "#this project uses selenium and pandas libra\n",
    "#installing \n",
    "!pip3 install selenium\n",
    "!pip3 install pandas"
   ]
  },
  {
   "cell_type": "code",
   "execution_count": null,
   "id": "feaf281f",
   "metadata": {},
   "outputs": [],
   "source": [
    "#downloading and unzipping driver\n",
    "#get url for your system from this link https://sites.google.com/chromium.org/driver/downloads\n",
    "#select the right driver from the link above based on your OS and Chrome version\n",
    "!wget [find url in the link above]\n",
    "!unzip [insert filename of the downloaded driver]"
   ]
  },
  {
   "cell_type": "code",
   "execution_count": null,
   "id": "bcc8df65",
   "metadata": {},
   "outputs": [],
   "source": [
    "from selenium import webdriver\n",
    "import pandas as pd"
   ]
  },
  {
   "cell_type": "code",
   "execution_count": null,
   "id": "5747b7ef",
   "metadata": {},
   "outputs": [],
   "source": [
    "#run instance of Chrome\n",
    "wd = webdriver.Chrome(\"./chromedriver\")"
   ]
  },
  {
   "cell_type": "code",
   "execution_count": null,
   "id": "05cff52c",
   "metadata": {},
   "outputs": [],
   "source": [
    "#this URl contains all of the projects on one page\n",
    "nasa_url = \"https://software.nasa.gov/software/category/all/aw/200/\"\n",
    "\n",
    "wd.get(nasa_url)"
   ]
  },
  {
   "cell_type": "code",
   "execution_count": null,
   "id": "c9637771",
   "metadata": {},
   "outputs": [],
   "source": [
    "#all of the projects are here\n",
    "res = wd.find_elements_by_css_selector(\"div.results a\")\n"
   ]
  },
  {
   "cell_type": "code",
   "execution_count": null,
   "id": "29901371-9cba-4a01-934f-4c80c76284f7",
   "metadata": {},
   "outputs": [],
   "source": [
    "#var to store extracted files\n",
    "results = []"
   ]
  },
  {
   "cell_type": "code",
   "execution_count": null,
   "id": "0ee80de4",
   "metadata": {},
   "outputs": [],
   "source": [
    "#extracting information about projects and storing it in the results\n",
    "for sw in res:\n",
    "    sw_url = sw.get_attribute('href')\n",
    "    sw_id = sw.find_element_by_css_selector('.ref-number').text\n",
    "    sw_title = sw.find_element_by_css_selector('.title').text\n",
    "    sw_description = sw.find_element_by_css_selector('.description').text\n",
    "    sw_release_type = sw.find_element_by_css_selector('.release-type').text\n",
    "    \n",
    "    results.append({\n",
    "        \"id\": sw_id,\n",
    "        \"url\": sw_url,\n",
    "        \"title\": sw_title,\n",
    "        \"description\": sw_description,\n",
    "        \"release_type\": sw_release_type,\n",
    "    })"
   ]
  },
  {
   "cell_type": "code",
   "execution_count": null,
   "id": "6e093588-783c-48d5-b5e7-77ccd1e5f8b3",
   "metadata": {},
   "outputs": [],
   "source": [
    "#Open each project's page to extract additional information\n",
    "for i in results:\n",
    "    wd.get(i['url'])\n",
    "    i[\"dev_url\"] = wd.find_element_by_css_selector(\".request-button a\").get_attribute('href')\n",
    "    i[\"category\"] = wd.find_element_by_css_selector(\".col-lg-6.value\").text\n",
    "    i[\"dev_center\"] =  wd.find_element_by_css_selector(\".col-lg-12.value\").text\n",
    "    i[\"email\"] =  wd.find_element_by_css_selector(\".col-lg-12.value a\").get_attribute('href')\n",
    "    i[\"overview\"] =  wd.find_element_by_css_selector(\".abstract.body-text\").text\n",
    "    i[\"os\"] = wd.find_elements_by_css_selector(\".details .row .value\")[3].text\n",
    "    "
   ]
  },
  {
   "cell_type": "code",
   "execution_count": null,
   "id": "ddb9af6f-b2c7-4d17-987c-6a69621fe090",
   "metadata": {},
   "outputs": [],
   "source": [
    "#Save results to csv\n",
    "pd.DataFrame(results).to_csv(\"nasa-opensource-sw.csv\")"
   ]
  }
 ],
 "metadata": {
  "kernelspec": {
   "display_name": "Python 3 (ipykernel)",
   "language": "python",
   "name": "python3"
  },
  "language_info": {
   "codemirror_mode": {
    "name": "ipython",
    "version": 3
   },
   "file_extension": ".py",
   "mimetype": "text/x-python",
   "name": "python",
   "nbconvert_exporter": "python",
   "pygments_lexer": "ipython3",
   "version": "3.9.12"
  }
 },
 "nbformat": 4,
 "nbformat_minor": 5
}
